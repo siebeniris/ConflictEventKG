{
 "cells": [
  {
   "cell_type": "code",
   "execution_count": 29,
   "id": "697a6e85-5ff5-45eb-a891-1027d8c5978c",
   "metadata": {},
   "outputs": [],
   "source": [
    "import json\n",
    "import pandas as pd\n",
    "from glob import glob\n",
    "from collections import defaultdict\n",
    "import numpy as np"
   ]
  },
  {
   "cell_type": "code",
   "execution_count": 19,
   "id": "68701932-579d-4921-a6cd-b7bfd132b847",
   "metadata": {},
   "outputs": [],
   "source": [
    "data_dir = \"../data/wikidata\""
   ]
  },
  {
   "cell_type": "code",
   "execution_count": null,
   "id": "bc46ed0f-7d23-43fc-b3d9-04d98a87c21a",
   "metadata": {},
   "outputs": [],
   "source": [
    "entities_dict=defaultdict(dict)\n",
    "for file in glob(data_dir+'/event_wiki2data_entities_**.json'):\n",
    "    with open(file) as f:\n",
    "        data = json.load(f)\n",
    "    for entity_name, uri in data.items():\n",
    "        entity_id= uri.split(\"/\")[-1][1:]\n",
    "        print(entity_id)\n",
    "        if entity_id not in entities_dict:\n",
    "            entities_dict[entity_id]={\n",
    "                \"label\":entity_name,\n",
    "                \"url\":uri,\n",
    "                \"entity_id\":entity_id}"
   ]
  },
  {
   "cell_type": "code",
   "execution_count": 21,
   "id": "23b37923-ffc7-466c-be61-527e9e399174",
   "metadata": {},
   "outputs": [],
   "source": [
    "df_entities= pd.DataFrame.from_dict(entities_dict, orient=\"index\")"
   ]
  },
  {
   "cell_type": "code",
   "execution_count": 23,
   "id": "0b9d2b6a-92af-4179-a971-f0317d075059",
   "metadata": {},
   "outputs": [],
   "source": [
    "df_entities_linked = pd.read_csv(\"../data/wikidata/entities_events_detected.csv\")"
   ]
  },
  {
   "cell_type": "code",
   "execution_count": 26,
   "id": "68228138-d3e5-4abf-8db8-7456ced5424d",
   "metadata": {},
   "outputs": [],
   "source": [
    "df_entities_linked.rename(columns={\"Unnamed: 0\":\"entity_id\"}, inplace=True)"
   ]
  },
  {
   "cell_type": "code",
   "execution_count": 28,
   "id": "2f0e1b2b-c86d-4733-a442-1a073b49c4e4",
   "metadata": {},
   "outputs": [],
   "source": [
    "entity_description= dict(zip(df_entities_linked[\"entity_id\"], df_entities_linked[\"description\"]))"
   ]
  },
  {
   "cell_type": "code",
   "execution_count": 33,
   "id": "b2382147-6a55-44f8-b4fa-44c65847471b",
   "metadata": {},
   "outputs": [],
   "source": [
    "description_list =[]\n",
    "for idx in df_entities[\"entity_id\"]:\n",
    "    idx= int(idx)\n",
    "    if idx in entity_description:\n",
    "        description_list.append(entity_description[idx])\n",
    "    else:\n",
    "        description_list.append(np.nan)"
   ]
  },
  {
   "cell_type": "code",
   "execution_count": 35,
   "id": "979c67ae-bb81-4a17-bcbd-2716840a2bd5",
   "metadata": {},
   "outputs": [],
   "source": [
    "df_entities[\"description\"]=description_list"
   ]
  },
  {
   "cell_type": "code",
   "execution_count": 37,
   "id": "e274f9c4-c761-4bd7-a6dd-901259e3ed89",
   "metadata": {},
   "outputs": [
    {
     "data": {
      "text/html": [
       "<div>\n",
       "<style scoped>\n",
       "    .dataframe tbody tr th:only-of-type {\n",
       "        vertical-align: middle;\n",
       "    }\n",
       "\n",
       "    .dataframe tbody tr th {\n",
       "        vertical-align: top;\n",
       "    }\n",
       "\n",
       "    .dataframe thead th {\n",
       "        text-align: right;\n",
       "    }\n",
       "</style>\n",
       "<table border=\"1\" class=\"dataframe\">\n",
       "  <thead>\n",
       "    <tr style=\"text-align: right;\">\n",
       "      <th></th>\n",
       "      <th>label</th>\n",
       "      <th>url</th>\n",
       "      <th>entity_id</th>\n",
       "      <th>description</th>\n",
       "    </tr>\n",
       "  </thead>\n",
       "  <tbody>\n",
       "    <tr>\n",
       "      <th>861662</th>\n",
       "      <td>LGM-30 Minuteman</td>\n",
       "      <td>http://www.wikidata.org/entity/Q861662</td>\n",
       "      <td>861662</td>\n",
       "      <td>NaN</td>\n",
       "    </tr>\n",
       "    <tr>\n",
       "      <th>4808983</th>\n",
       "      <td>Assistant to the Secretary of Defense for Publ...</td>\n",
       "      <td>http://www.wikidata.org/entity/Q4808983</td>\n",
       "      <td>4808983</td>\n",
       "      <td>NaN</td>\n",
       "    </tr>\n",
       "    <tr>\n",
       "      <th>83168</th>\n",
       "      <td>Germany–Russia relations</td>\n",
       "      <td>http://www.wikidata.org/entity/Q83168</td>\n",
       "      <td>83168</td>\n",
       "      <td>NaN</td>\n",
       "    </tr>\n",
       "    <tr>\n",
       "      <th>177471</th>\n",
       "      <td>Intercontinental ballistic missile</td>\n",
       "      <td>http://www.wikidata.org/entity/Q177471</td>\n",
       "      <td>177471</td>\n",
       "      <td>NaN</td>\n",
       "    </tr>\n",
       "    <tr>\n",
       "      <th>6514</th>\n",
       "      <td>Dardanelles</td>\n",
       "      <td>http://www.wikidata.org/entity/Q6514</td>\n",
       "      <td>6514</td>\n",
       "      <td>strait in northwestern Turkey</td>\n",
       "    </tr>\n",
       "  </tbody>\n",
       "</table>\n",
       "</div>"
      ],
      "text/plain": [
       "                                                     label  \\\n",
       "861662                                    LGM-30 Minuteman   \n",
       "4808983  Assistant to the Secretary of Defense for Publ...   \n",
       "83168                             Germany–Russia relations   \n",
       "177471                  Intercontinental ballistic missile   \n",
       "6514                                           Dardanelles   \n",
       "\n",
       "                                             url entity_id  \\\n",
       "861662    http://www.wikidata.org/entity/Q861662    861662   \n",
       "4808983  http://www.wikidata.org/entity/Q4808983   4808983   \n",
       "83168      http://www.wikidata.org/entity/Q83168     83168   \n",
       "177471    http://www.wikidata.org/entity/Q177471    177471   \n",
       "6514        http://www.wikidata.org/entity/Q6514      6514   \n",
       "\n",
       "                           description  \n",
       "861662                             NaN  \n",
       "4808983                            NaN  \n",
       "83168                              NaN  \n",
       "177471                             NaN  \n",
       "6514     strait in northwestern Turkey  "
      ]
     },
     "execution_count": 37,
     "metadata": {},
     "output_type": "execute_result"
    }
   ],
   "source": [
    "df_entities.head()"
   ]
  },
  {
   "cell_type": "code",
   "execution_count": 40,
   "id": "e0eed9b9-8fd3-4aab-b39b-173b91aaf599",
   "metadata": {},
   "outputs": [
    {
     "data": {
      "text/plain": [
       "446"
      ]
     },
     "execution_count": 40,
     "metadata": {},
     "output_type": "execute_result"
    }
   ],
   "source": [
    "len(df_entities)"
   ]
  },
  {
   "cell_type": "code",
   "execution_count": 39,
   "id": "8e5ab68d-b438-46e1-bb98-ec829f507a65",
   "metadata": {},
   "outputs": [],
   "source": [
    "df_entities.to_csv(\"../data/wikidata/events_wiki2data_entities.csv\")"
   ]
  },
  {
   "cell_type": "code",
   "execution_count": 48,
   "id": "7868647f-6395-488b-9c69-e3df63fb020e",
   "metadata": {},
   "outputs": [],
   "source": [
    "from ast import literal_eval"
   ]
  },
  {
   "cell_type": "code",
   "execution_count": 41,
   "id": "6c0de9ca-e396-4823-9439-c3cff46b0d4f",
   "metadata": {},
   "outputs": [],
   "source": [
    "df_events= pd.read_csv(\"../data/events/events_actors_final.csv\")"
   ]
  },
  {
   "cell_type": "code",
   "execution_count": 44,
   "id": "168989d8-32da-45e2-bfd3-9f6be19f4801",
   "metadata": {},
   "outputs": [],
   "source": [
    "wiki_ents = df_events[\"entities\"].tolist() # wikipedia entites"
   ]
  },
  {
   "cell_type": "code",
   "execution_count": 49,
   "id": "070d4844-81d2-4942-ba7b-ffdd8ac714f6",
   "metadata": {
    "scrolled": true,
    "tags": []
   },
   "outputs": [],
   "source": [
    "wiki_ents = [literal_eval(x) for x in wiki_ents]"
   ]
  },
  {
   "cell_type": "code",
   "execution_count": 45,
   "id": "aa6d5539-a61b-47fa-a6cc-8f9efe4e0cf1",
   "metadata": {},
   "outputs": [],
   "source": [
    "entities_label_dict= dict(zip(df_entities[\"label\"], df_entities[\"entity_id\"])) # wikidata entities"
   ]
  },
  {
   "cell_type": "code",
   "execution_count": 52,
   "id": "eb32bf89-4149-433e-824f-b28c700f39c0",
   "metadata": {},
   "outputs": [],
   "source": [
    "# mapping wikipedia entities to wikidata\n",
    "wikidata_labels = []\n",
    "wikidata_ids = []\n",
    "for ents in wiki_ents:\n",
    "    labels=[]\n",
    "    ids=[]\n",
    "    for ent in ents:\n",
    "        if ent in entities_label_dict:\n",
    "            labels.append(ent)\n",
    "            ids.append(entities_label_dict[ent])\n",
    "    wikidata_labels.append(labels)\n",
    "    wikidata_ids.append(ids)\n",
    "    \n",
    "    "
   ]
  },
  {
   "cell_type": "code",
   "execution_count": 53,
   "id": "922eeca6-2955-42cb-87be-dd6b855149f1",
   "metadata": {},
   "outputs": [],
   "source": [
    "df_events[\"wiki2data_ids\"]= wikidata_ids\n",
    "df_events[\"wiki2data_labels\"]= wikidata_labels\n"
   ]
  },
  {
   "cell_type": "code",
   "execution_count": 55,
   "id": "9e2fd2fc-ba19-4dab-9fda-f60dcc2bcaeb",
   "metadata": {
    "scrolled": true,
    "tags": []
   },
   "outputs": [],
   "source": [
    "df_events.to_csv(\"../data/events/events_actors_wiki2data.csv\", index=False)"
   ]
  },
  {
   "cell_type": "code",
   "execution_count": null,
   "id": "8b404576-7786-484c-bddd-36a179704fb5",
   "metadata": {},
   "outputs": [],
   "source": []
  },
  {
   "cell_type": "code",
   "execution_count": null,
   "id": "31ec3881-8b40-402f-be90-08c8764584cd",
   "metadata": {},
   "outputs": [],
   "source": []
  },
  {
   "cell_type": "code",
   "execution_count": null,
   "id": "780af4b2-5dfb-4f8d-8462-9f76962ced4f",
   "metadata": {},
   "outputs": [],
   "source": []
  },
  {
   "cell_type": "code",
   "execution_count": 9,
   "id": "6258d483-5bdf-43ce-9511-40b7f28c2a73",
   "metadata": {},
   "outputs": [
    {
     "name": "stdout",
     "output_type": "stream",
     "text": [
      "../data/wikidata/entities_tweets_2022-02-28 00:00:00.csv\n",
      "../data/wikidata/entities_tweets_2022-03-01 00:00:00.csv\n",
      "../data/wikidata/entities_tweets_2022-02-25 00:00:00.csv\n",
      "../data/wikidata/entities_tweets_2022-02-24 00:00:00.csv\n",
      "../data/wikidata/entities_tweets_2022-02-26 00:00:00.csv\n",
      "../data/wikidata/entities_tweets_2022-02-27 00:00:00.csv\n",
      "../data/wikidata/entities_tweets_2022-03-04 00:00:00.csv\n",
      "../data/wikidata/entities_tweets_2022-03-03 00:00:00.csv\n",
      "../data/wikidata/entities_tweets_2022-03-02 00:00:00.csv\n",
      "../data/wikidata/entities_tweets_2022-03-05 00:00:00.csv\n"
     ]
    }
   ],
   "source": [
    "df_ls=[]\n",
    "for file in glob(data_dir+'/entities_tweets_**.csv'):\n",
    "    print(file)\n",
    "    df=pd.read_csv(file, index_col=0)\n",
    "    df[\"entity_id\"]= df.index\n",
    "    df_ls.append(df)\n",
    "    "
   ]
  },
  {
   "cell_type": "code",
   "execution_count": 10,
   "id": "0b5177c7-a35c-4280-b08f-da099794e0b9",
   "metadata": {},
   "outputs": [],
   "source": [
    "pd_merged = pd.concat(df_ls)"
   ]
  },
  {
   "cell_type": "code",
   "execution_count": 14,
   "id": "98d0d5ac-45a6-4a08-93f2-645094544c7d",
   "metadata": {},
   "outputs": [],
   "source": [
    "pd_merged.drop_duplicates(subset=[\"entity_id\"], inplace=True)"
   ]
  },
  {
   "cell_type": "code",
   "execution_count": 15,
   "id": "d9102ccb-3399-4c97-86df-84f01a63f667",
   "metadata": {},
   "outputs": [],
   "source": [
    "pd_merged.to_csv(data_dir+'/entities_tweets.csv')"
   ]
  },
  {
   "cell_type": "code",
   "execution_count": 16,
   "id": "e8937373-2739-4a02-af98-ee6e87c23ed7",
   "metadata": {},
   "outputs": [
    {
     "data": {
      "text/html": [
       "<div>\n",
       "<style scoped>\n",
       "    .dataframe tbody tr th:only-of-type {\n",
       "        vertical-align: middle;\n",
       "    }\n",
       "\n",
       "    .dataframe tbody tr th {\n",
       "        vertical-align: top;\n",
       "    }\n",
       "\n",
       "    .dataframe thead th {\n",
       "        text-align: right;\n",
       "    }\n",
       "</style>\n",
       "<table border=\"1\" class=\"dataframe\">\n",
       "  <thead>\n",
       "    <tr style=\"text-align: right;\">\n",
       "      <th></th>\n",
       "      <th>description</th>\n",
       "      <th>label</th>\n",
       "      <th>url</th>\n",
       "      <th>entity_id</th>\n",
       "    </tr>\n",
       "  </thead>\n",
       "  <tbody>\n",
       "    <tr>\n",
       "      <th>278485</th>\n",
       "      <td>word or an unspaced phrase prefixed with the n...</td>\n",
       "      <td>hashtag</td>\n",
       "      <td>https://www.wikidata.org/wiki/Q278485</td>\n",
       "      <td>278485</td>\n",
       "    </tr>\n",
       "    <tr>\n",
       "      <th>212</th>\n",
       "      <td>sovereign state in Eastern Europe</td>\n",
       "      <td>Ukraine</td>\n",
       "      <td>https://www.wikidata.org/wiki/Q212</td>\n",
       "      <td>212</td>\n",
       "    </tr>\n",
       "    <tr>\n",
       "      <th>2995644</th>\n",
       "      <td>final consequence of a sequence of actions or ...</td>\n",
       "      <td>result</td>\n",
       "      <td>https://www.wikidata.org/wiki/Q2995644</td>\n",
       "      <td>2995644</td>\n",
       "    </tr>\n",
       "    <tr>\n",
       "      <th>49776</th>\n",
       "      <td>work stoppage caused by the mass refusal of em...</td>\n",
       "      <td>strike</td>\n",
       "      <td>https://www.wikidata.org/wiki/Q49776</td>\n",
       "      <td>49776</td>\n",
       "    </tr>\n",
       "    <tr>\n",
       "      <th>8473</th>\n",
       "      <td>organized body primarily tasked with preparing...</td>\n",
       "      <td>military</td>\n",
       "      <td>https://www.wikidata.org/wiki/Q8473</td>\n",
       "      <td>8473</td>\n",
       "    </tr>\n",
       "  </tbody>\n",
       "</table>\n",
       "</div>"
      ],
      "text/plain": [
       "                                               description     label  \\\n",
       "278485   word or an unspaced phrase prefixed with the n...   hashtag   \n",
       "212                      sovereign state in Eastern Europe   Ukraine   \n",
       "2995644  final consequence of a sequence of actions or ...    result   \n",
       "49776    work stoppage caused by the mass refusal of em...    strike   \n",
       "8473     organized body primarily tasked with preparing...  military   \n",
       "\n",
       "                                            url  entity_id  \n",
       "278485    https://www.wikidata.org/wiki/Q278485     278485  \n",
       "212          https://www.wikidata.org/wiki/Q212        212  \n",
       "2995644  https://www.wikidata.org/wiki/Q2995644    2995644  \n",
       "49776      https://www.wikidata.org/wiki/Q49776      49776  \n",
       "8473        https://www.wikidata.org/wiki/Q8473       8473  "
      ]
     },
     "execution_count": 16,
     "metadata": {},
     "output_type": "execute_result"
    }
   ],
   "source": [
    "pd_merged.head()"
   ]
  },
  {
   "cell_type": "code",
   "execution_count": null,
   "id": "62739c4e-2e83-4bed-b079-ccb08ff9b5c1",
   "metadata": {},
   "outputs": [],
   "source": []
  }
 ],
 "metadata": {
  "kernelspec": {
   "display_name": "base-python",
   "language": "python",
   "name": "base"
  },
  "language_info": {
   "codemirror_mode": {
    "name": "ipython",
    "version": 3
   },
   "file_extension": ".py",
   "mimetype": "text/x-python",
   "name": "python",
   "nbconvert_exporter": "python",
   "pygments_lexer": "ipython3",
   "version": "3.9.10"
  }
 },
 "nbformat": 4,
 "nbformat_minor": 5
}
