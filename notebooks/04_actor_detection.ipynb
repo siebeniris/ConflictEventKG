{
 "cells": [
  {
   "cell_type": "code",
   "execution_count": 33,
   "id": "e5b7c1a7-f79e-4d22-b373-b9b744aacc85",
   "metadata": {},
   "outputs": [],
   "source": [
    "import pandas as pd\n",
    "import spacy\n",
    "from itertools import chain\n",
    "import json"
   ]
  },
  {
   "cell_type": "code",
   "execution_count": 13,
   "id": "ea1498e1-e5f9-4b18-8b29-79b56817c261",
   "metadata": {},
   "outputs": [
    {
     "data": {
      "text/plain": [
       "<spacy.pipeline.sentencizer.Sentencizer at 0x168cc8b80>"
      ]
     },
     "execution_count": 13,
     "metadata": {},
     "output_type": "execute_result"
    }
   ],
   "source": [
    "PIPELINE = \"en_core_web_md\"\n",
    "nlp = spacy.load(PIPELINE)\n",
    "nlp.add_pipe(\"sentencizer\")"
   ]
  },
  {
   "cell_type": "code",
   "execution_count": 5,
   "id": "83aa43a8-b45b-43cb-8cb6-ad8961a8f9c6",
   "metadata": {},
   "outputs": [],
   "source": [
    "df = pd.read_csv(\"../data/wikidata/events_wikidata.csv\")\n"
   ]
  },
  {
   "cell_type": "code",
   "execution_count": 14,
   "id": "2470b10d-dcff-4f7f-8f87-1a0c2025fe93",
   "metadata": {},
   "outputs": [],
   "source": [
    "events = df[\"event_text\"].tolist()"
   ]
  },
  {
   "cell_type": "code",
   "execution_count": 51,
   "id": "8c4a7830-170b-451b-823e-36e6f40a47a4",
   "metadata": {},
   "outputs": [],
   "source": [
    "first_sentences= df[\"first_sentence\"].tolist()"
   ]
  },
  {
   "cell_type": "code",
   "execution_count": 15,
   "id": "9f517ddb-a4f6-485e-ab76-cceee3796886",
   "metadata": {},
   "outputs": [],
   "source": [
    "sents=[]\n",
    "for event_text in events:\n",
    "    doc = nlp(event_text)\n",
    "    sentences= [sent.text.strip() for sent in doc.sents]\n",
    "    sents.append(sentences)"
   ]
  },
  {
   "cell_type": "code",
   "execution_count": 18,
   "id": "c82986f5-b32d-4eab-b6fd-2e2635c2cb21",
   "metadata": {},
   "outputs": [],
   "source": [
    "sents_all = list(chain.from_iterable(sents))"
   ]
  },
  {
   "cell_type": "code",
   "execution_count": 19,
   "id": "1dfe8317-1685-492d-806b-e58f89bf054e",
   "metadata": {},
   "outputs": [
    {
     "data": {
      "text/plain": [
       "'Russian troops enter the Chernobyl Exclusion Zone.'"
      ]
     },
     "execution_count": 19,
     "metadata": {},
     "output_type": "execute_result"
    }
   ],
   "source": [
    "sents_all[0]"
   ]
  },
  {
   "cell_type": "code",
   "execution_count": 21,
   "id": "da2833e0-4f58-4efe-aca6-96b3d94f26e2",
   "metadata": {},
   "outputs": [],
   "source": [
    "verb_list = []\n",
    "verb_pos_list = []\n",
    "noun_list = []\n",
    "noun_pos_list = []"
   ]
  },
  {
   "cell_type": "code",
   "execution_count": 39,
   "id": "7deba82b-fe67-41f8-9fb3-b91a73887e47",
   "metadata": {},
   "outputs": [],
   "source": [
    "def get_verbs_nouns(doc):\n",
    "    for word in doc:\n",
    "        if word.dep_ == \"ROOT\":\n",
    "            for subword in word.children: \n",
    "                if subword.dep_ == \"dobj\": \n",
    "                    verb_list.append(word.lemma_)\n",
    "                    verb_pos_list.append(word.pos_)\n",
    "                    noun_list.append(subword.lemma_)\n",
    "                    noun_pos_list.append(subword.pos_)\n",
    "    "
   ]
  },
  {
   "cell_type": "code",
   "execution_count": null,
   "id": "207aef65-b250-47ad-839d-78b06896d43c",
   "metadata": {
    "scrolled": true,
    "tags": []
   },
   "outputs": [],
   "source": [
    "for sent in sents_all:\n",
    "    if \"that\" in sent:\n",
    "        print(sent)\n",
    "        vortext = sent.split(\"that\")[0]\n",
    "        subtext = sent.split(\"that\")[1]\n",
    "        doc = nlp(subtext)\n",
    "        get_verbs_nouns(doc)\n",
    "    else:\n",
    "        doc=nlp(sent)\n",
    "        get_verbs_nouns(doc)"
   ]
  },
  {
   "cell_type": "code",
   "execution_count": 32,
   "id": "ae538882-0adc-4162-8966-bd8b5a603e62",
   "metadata": {},
   "outputs": [],
   "source": [
    "verb_list = list(set(verb_list))"
   ]
  },
  {
   "cell_type": "code",
   "execution_count": 34,
   "id": "8372f824-c605-4a7d-8c5f-a59e05a6c31b",
   "metadata": {},
   "outputs": [],
   "source": [
    "with open(\"../data/events/verbs.json\", \"w\") as f:\n",
    "    json.dump(verb_list, f)"
   ]
  },
  {
   "cell_type": "code",
   "execution_count": 37,
   "id": "598a1d26-26fe-4e33-8460-ffba346e7f75",
   "metadata": {},
   "outputs": [],
   "source": [
    "nouns = ['curfew', 'wipeout', 'control', 'relocation', 'convoy', \n",
    "         'control', 'war', 'assault', 'attack', 'offensive', 'protest',\n",
    "         'operation', 'ban', 'request', 'spread']"
   ]
  },
  {
   "cell_type": "code",
   "execution_count": 48,
   "id": "423011f3-2e58-40c9-919c-faa7e1716f19",
   "metadata": {},
   "outputs": [],
   "source": [
    "def actor_extractor(root): \n",
    "    for child in root.children: \n",
    "        if child.dep_ == \"nsubj\": \n",
    "            nsubj = child.text \n",
    "            nsubj_subtree = ''.join(w.text_with_ws for w in child.subtree).strip() \n",
    "            return nsubj_subtree "
   ]
  },
  {
   "cell_type": "code",
   "execution_count": 41,
   "id": "b6ecaef9-c977-45d9-b11a-7f922de8b661",
   "metadata": {},
   "outputs": [],
   "source": [
    "with open(\"../data/events/verbs.json\",) as f:\n",
    "    verb_list = json.load(f)"
   ]
  },
  {
   "cell_type": "code",
   "execution_count": 55,
   "id": "2a0e0aef-15c5-4ba6-9c3e-b783f4a9c326",
   "metadata": {},
   "outputs": [],
   "source": [
    "def detect_event(doc): \n",
    "    for word in doc: \n",
    "        if word.dep_ == \"ROOT\": \n",
    "            # for subword in word.children: \n",
    "            #     if subword.dep_ == \"dobj\" and subword.lemma_ in dobj_list: \n",
    "            return word  "
   ]
  },
  {
   "cell_type": "code",
   "execution_count": null,
   "id": "7417c23e-0d66-4d7e-a029-ac1b0539654b",
   "metadata": {
    "scrolled": true,
    "tags": []
   },
   "outputs": [],
   "source": [
    "actors = get_actors(first_sentences)"
   ]
  },
  {
   "cell_type": "code",
   "execution_count": 66,
   "id": "820a1c19-33f3-4e5a-8340-1374d09b8afa",
   "metadata": {},
   "outputs": [],
   "source": [
    "df[\"first_actor\"] =actors"
   ]
  },
  {
   "cell_type": "code",
   "execution_count": 67,
   "id": "aa2795a3-9a17-467e-b027-4f2f4df99ffd",
   "metadata": {},
   "outputs": [],
   "source": [
    "df.to_csv(\"../data/events/events_actors.csv\", index=False)"
   ]
  },
  {
   "cell_type": "code",
   "execution_count": 62,
   "id": "69aa0b59-0fe7-44fc-aba8-61b0457b050a",
   "metadata": {
    "scrolled": true,
    "tags": []
   },
   "outputs": [],
   "source": [
    "def get_actors(sents_all):\n",
    "    actors=[]\n",
    "    for sent in sents_all:\n",
    "        if \"that\" in sent:\n",
    "            sent = sent.capitalize()\n",
    "            vortext = sent.split(\"that\")[0]\n",
    "            subtext = sent.split(\"that\")[1]\n",
    "            print(subtext)\n",
    "            doc = nlp(subtext)\n",
    "            root = detect_event(doc)\n",
    "            if root:\n",
    "                actor = actor_extractor(root)\n",
    "\n",
    "                print(\"actor:\", actor)\n",
    "                if actor in [\"they\", \"it\", \"he\", \"she\"]:\n",
    "                    print(vortext)\n",
    "                    doc_ = nlp(vortext)\n",
    "                    root_ = detect_event(doc_)\n",
    "                    if root_:\n",
    "                        actor_ = actor_extractor(root_)\n",
    "\n",
    "                        print(\"actor:\", actor_)\n",
    "                        actors.append(actor_)\n",
    "                else:\n",
    "                    actors.append(actor)\n",
    "            else:\n",
    "                actors.append(None)\n",
    "                    \n",
    "                    \n",
    "                print(\"*\"*20)\n",
    "                # get_verbs_nouns(doc)\n",
    "        else:\n",
    "            doc=nlp(sent)\n",
    "            root = detect_event(doc)\n",
    "            if root:\n",
    "                actor = actor_extractor(root)\n",
    "\n",
    "                print(sent)\n",
    "                print(\"actor:\", actor)\n",
    "                print(\"*\"*20)\n",
    "                actors.append(actor)\n",
    "            else:\n",
    "                actors.append(None)\n",
    "            # get_verbs_nouns(doc)\n",
    "    return actors"
   ]
  },
  {
   "cell_type": "code",
   "execution_count": 7,
   "id": "5b9df88b-7cf3-4851-beb6-fa1ceb117866",
   "metadata": {
    "scrolled": true,
    "tags": []
   },
   "outputs": [],
   "source": [
    "texts = df[\"first_sentence\"].tolist()"
   ]
  },
  {
   "cell_type": "code",
   "execution_count": null,
   "id": "4b9468e0-6136-40a3-a84e-adcef0f9485a",
   "metadata": {},
   "outputs": [],
   "source": []
  },
  {
   "cell_type": "code",
   "execution_count": null,
   "id": "0497bab5-3496-4918-97dc-25bd25e5cd53",
   "metadata": {},
   "outputs": [],
   "source": [
    "\n",
    "for text in texts:\n",
    "    if \"that\" in text:\n",
    "        vortext = text.split(\"that\")[0]\n",
    "        subtext = text.split(\"that\")[1]\n",
    "        print(vortext)\n",
    "        print(subtext)\n",
    "        print(\"=\"*20)"
   ]
  },
  {
   "cell_type": "code",
   "execution_count": null,
   "id": "06bc0d09-b4d8-4bc3-b8eb-aafaa1fad29e",
   "metadata": {},
   "outputs": [],
   "source": []
  }
 ],
 "metadata": {
  "kernelspec": {
   "display_name": "python-eve",
   "language": "python",
   "name": "eve"
  },
  "language_info": {
   "codemirror_mode": {
    "name": "ipython",
    "version": 3
   },
   "file_extension": ".py",
   "mimetype": "text/x-python",
   "name": "python",
   "nbconvert_exporter": "python",
   "pygments_lexer": "ipython3",
   "version": "3.8.12"
  }
 },
 "nbformat": 4,
 "nbformat_minor": 5
}
