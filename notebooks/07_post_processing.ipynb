{
 "cells": [
  {
   "cell_type": "code",
   "execution_count": 3,
   "id": "c7c1d0e4-45bd-43db-9f10-09f612c9dc86",
   "metadata": {},
   "outputs": [],
   "source": [
    "import pandas as pd\n",
    "import json \n",
    "import numpy as np\n",
    "from collections import defaultdict\n",
    "from glob import glob"
   ]
  },
  {
   "cell_type": "markdown",
   "id": "bbae2e35-3cc5-4ca6-beb8-c338914926cc",
   "metadata": {},
   "source": [
    "# Twitter Data"
   ]
  },
  {
   "cell_type": "code",
   "execution_count": 4,
   "id": "b9ba8a9f-a0e0-4de4-9136-87dcee4592b5",
   "metadata": {},
   "outputs": [],
   "source": [
    "columns = [\"author_id\", \"id\", \"created_at\", \"hashtags\",\n",
    "           \"user_mentions\", \"reply_count\", \"like_count\", \"quote_count\", \"retweet_count\"]"
   ]
  },
  {
   "cell_type": "code",
   "execution_count": 5,
   "id": "4a28f0dc-1b41-41bc-81af-b23e1b1763c9",
   "metadata": {
    "scrolled": true,
    "tags": []
   },
   "outputs": [
    {
     "name": "stderr",
     "output_type": "stream",
     "text": [
      "/var/folders/bj/qp6k2wl11h5gpn8j4hg0tgf40000gn/T/ipykernel_35058/3201840456.py:3: DtypeWarning: Columns (0,2,3,5,6,9,10,15,16,17,18,19) have mixed types. Specify dtype option on import or set low_memory=False.\n",
      "  df = pd.read_csv(file)\n",
      "/var/folders/bj/qp6k2wl11h5gpn8j4hg0tgf40000gn/T/ipykernel_35058/3201840456.py:3: DtypeWarning: Columns (0,2,3,5,6,7,9,10,15,16,17,18,19) have mixed types. Specify dtype option on import or set low_memory=False.\n",
      "  df = pd.read_csv(file)\n",
      "/var/folders/bj/qp6k2wl11h5gpn8j4hg0tgf40000gn/T/ipykernel_35058/3201840456.py:3: DtypeWarning: Columns (0,2) have mixed types. Specify dtype option on import or set low_memory=False.\n",
      "  df = pd.read_csv(file)\n",
      "/var/folders/bj/qp6k2wl11h5gpn8j4hg0tgf40000gn/T/ipykernel_35058/3201840456.py:3: DtypeWarning: Columns (0,2) have mixed types. Specify dtype option on import or set low_memory=False.\n",
      "  df = pd.read_csv(file)\n",
      "/var/folders/bj/qp6k2wl11h5gpn8j4hg0tgf40000gn/T/ipykernel_35058/3201840456.py:3: DtypeWarning: Columns (0,2) have mixed types. Specify dtype option on import or set low_memory=False.\n",
      "  df = pd.read_csv(file)\n",
      "/var/folders/bj/qp6k2wl11h5gpn8j4hg0tgf40000gn/T/ipykernel_35058/3201840456.py:3: DtypeWarning: Columns (0,2,3,5,6,9,10,15,16,17,18,19) have mixed types. Specify dtype option on import or set low_memory=False.\n",
      "  df = pd.read_csv(file)\n",
      "/var/folders/bj/qp6k2wl11h5gpn8j4hg0tgf40000gn/T/ipykernel_35058/3201840456.py:3: DtypeWarning: Columns (0,2) have mixed types. Specify dtype option on import or set low_memory=False.\n",
      "  df = pd.read_csv(file)\n",
      "/var/folders/bj/qp6k2wl11h5gpn8j4hg0tgf40000gn/T/ipykernel_35058/3201840456.py:3: DtypeWarning: Columns (0,2) have mixed types. Specify dtype option on import or set low_memory=False.\n",
      "  df = pd.read_csv(file)\n",
      "/var/folders/bj/qp6k2wl11h5gpn8j4hg0tgf40000gn/T/ipykernel_35058/3201840456.py:3: DtypeWarning: Columns (0,2) have mixed types. Specify dtype option on import or set low_memory=False.\n",
      "  df = pd.read_csv(file)\n",
      "/var/folders/bj/qp6k2wl11h5gpn8j4hg0tgf40000gn/T/ipykernel_35058/3201840456.py:3: DtypeWarning: Columns (0,2) have mixed types. Specify dtype option on import or set low_memory=False.\n",
      "  df = pd.read_csv(file)\n",
      "/var/folders/bj/qp6k2wl11h5gpn8j4hg0tgf40000gn/T/ipykernel_35058/3201840456.py:3: DtypeWarning: Columns (0,2,3,5,6,7,9,10,15,16,17,18,19) have mixed types. Specify dtype option on import or set low_memory=False.\n",
      "  df = pd.read_csv(file)\n"
     ]
    }
   ],
   "source": [
    "df_ls=[]\n",
    "for file in glob(\"../data/output/preprocessed/dataframes/*.csv\"):\n",
    "    df = pd.read_csv(file)\n",
    "    df[\"author_id\"]=df[\"author_id\"].astype('Int64')\n",
    "    df[\"id\"]=df[\"id\"].astype('Int64')\n",
    "    df = df[columns]\n",
    "    df_ls.append(df)"
   ]
  },
  {
   "cell_type": "code",
   "execution_count": 6,
   "id": "e3299815-8dc0-48b0-bc5d-1b08320711e4",
   "metadata": {},
   "outputs": [],
   "source": [
    "df_merged = pd.concat(df_ls)\n"
   ]
  },
  {
   "cell_type": "code",
   "execution_count": 7,
   "id": "5c02fedb-c27c-43cd-8ed1-614451f24af4",
   "metadata": {},
   "outputs": [
    {
     "data": {
      "text/plain": [
       "4819613"
      ]
     },
     "execution_count": 7,
     "metadata": {},
     "output_type": "execute_result"
    }
   ],
   "source": [
    "len(df_merged)"
   ]
  },
  {
   "cell_type": "code",
   "execution_count": 8,
   "id": "b2250ba0-2ccb-4648-93af-10c419eaa089",
   "metadata": {},
   "outputs": [],
   "source": [
    "df_merged.drop_duplicates(subset=[\"id\"], inplace=True)"
   ]
  },
  {
   "cell_type": "code",
   "execution_count": 9,
   "id": "b0a62d58-e033-4793-a271-e7b800c23fe9",
   "metadata": {},
   "outputs": [
    {
     "data": {
      "text/plain": [
       "2771316"
      ]
     },
     "execution_count": 9,
     "metadata": {},
     "output_type": "execute_result"
    }
   ],
   "source": [
    "len(df_merged)"
   ]
  },
  {
   "cell_type": "code",
   "execution_count": 10,
   "id": "8538bc2a-50e1-48eb-a332-6a5ee727d2fc",
   "metadata": {},
   "outputs": [],
   "source": [
    "columns_=[\"id\", \"date\", \"preprocessed_text\",  \"wikidata_ids\", \"event_id\", \"score\", \"score_dict\"]"
   ]
  },
  {
   "cell_type": "code",
   "execution_count": 11,
   "id": "30c2ed15-f361-428f-8ab2-de21fb6ca389",
   "metadata": {},
   "outputs": [],
   "source": [
    "df_ls_=[]\n",
    "for file in glob(\"../data/events/event_detected_tweets/*.csv\"):\n",
    "    dfs = pd.read_csv(file)\n",
    "    dfs[\"id\"]=dfs[\"id\"].astype('Int64')\n",
    "    \n",
    "    dfs = dfs[columns_]\n",
    "    dfs = dfs[dfs[\"score\"]>0.3]\n",
    "    df_ls_.append(dfs)"
   ]
  },
  {
   "cell_type": "code",
   "execution_count": 12,
   "id": "a380dff3-6437-4288-8d4f-89f5938f1d44",
   "metadata": {},
   "outputs": [],
   "source": [
    "dfs_merged = pd.concat(df_ls_)"
   ]
  },
  {
   "cell_type": "code",
   "execution_count": 13,
   "id": "f0dd3acd-8042-4caf-90a0-42d8cfba7d22",
   "metadata": {},
   "outputs": [
    {
     "data": {
      "text/plain": [
       "6      798911\n",
       "78     297312\n",
       "59     211339\n",
       "97     126225\n",
       "152     88316\n",
       "        ...  \n",
       "90          2\n",
       "231         2\n",
       "203         1\n",
       "180         1\n",
       "227         1\n",
       "Name: event_id, Length: 237, dtype: int64"
      ]
     },
     "execution_count": 13,
     "metadata": {},
     "output_type": "execute_result"
    }
   ],
   "source": [
    "dfs_merged.event_id.value_counts()"
   ]
  },
  {
   "cell_type": "code",
   "execution_count": 65,
   "id": "6df06d71-605b-42f9-b6c5-30455b401532",
   "metadata": {},
   "outputs": [],
   "source": [
    "dfs_merged = dfs_merged[dfs_merged[\"score\"]>=0.5]"
   ]
  },
  {
   "cell_type": "code",
   "execution_count": 14,
   "id": "24ad8d2d-c7d2-48c1-ab3d-75c9ab5153c5",
   "metadata": {},
   "outputs": [],
   "source": [
    "# join two\n",
    "df_tweets = pd.merge(dfs_merged, df_merged, on=[\"id\"])"
   ]
  },
  {
   "cell_type": "code",
   "execution_count": 16,
   "id": "fa95f809-d8b1-4462-8691-f7d46a8619ae",
   "metadata": {},
   "outputs": [],
   "source": [
    "df_tweets.to_csv(\"../data/final/tweets.csv\", index=False)"
   ]
  },
  {
   "cell_type": "markdown",
   "id": "4f2ad91e-40a6-44be-9706-aa5ee3bc6175",
   "metadata": {},
   "source": [
    "# Event data"
   ]
  },
  {
   "cell_type": "code",
   "execution_count": 21,
   "id": "6d204257-8ca4-4bcc-88ba-d5c7845d2c4c",
   "metadata": {},
   "outputs": [],
   "source": [
    "df_event = pd.read_csv(\"../data/events/event_indexed.csv\")"
   ]
  },
  {
   "cell_type": "code",
   "execution_count": 22,
   "id": "d6c1572b-8df3-41c9-bbe3-60ceb39101a1",
   "metadata": {},
   "outputs": [],
   "source": [
    "df_event = df_event[[\"category\", \"date\", \"event_text\", \"main_event\", \"first_sentence\", \"first_actor\", \"wikidata_labels\", \"wikidata_ids\", \"event_id\"]]"
   ]
  },
  {
   "cell_type": "code",
   "execution_count": 25,
   "id": "84510ee8-cb86-4f03-a09e-4ba3f879d7ab",
   "metadata": {
    "scrolled": true,
    "tags": []
   },
   "outputs": [],
   "source": [
    "# get the resource wikipedia\n",
    "urls_sources=[]\n",
    "for date in df_event.date.tolist():\n",
    "    splits = date.split(\"-\")\n",
    "    year, month, day = splits[0], splits[1], splits[2]\n",
    "    if month==\"03\":\n",
    "        month_ =\"March\"\n",
    "    \n",
    "    if month==\"02\":\n",
    "        month_ =\"February\"\n",
    "    \n",
    "    day_=int(day)\n",
    "        \n",
    "    url = f'https://en.wikipedia.org/wiki/Portal:Current_events/{year}_{month_}_{day_}'\n",
    "    urls_sources.append(url)"
   ]
  },
  {
   "cell_type": "code",
   "execution_count": 27,
   "id": "da3fe644-5bcb-4685-990b-d0682acfd4ab",
   "metadata": {},
   "outputs": [],
   "source": [
    "df_event[\"extractedFrom\"]= urls_sources"
   ]
  },
  {
   "cell_type": "code",
   "execution_count": 28,
   "id": "9a4043a5-b4a1-4e1e-99ca-852befd14211",
   "metadata": {},
   "outputs": [],
   "source": [
    "df_event.to_csv(\"../data/final/events.csv\")"
   ]
  },
  {
   "cell_type": "markdown",
   "id": "c33bb869-1f18-41a3-9aa1-fa07e5eda975",
   "metadata": {
    "tags": []
   },
   "source": [
    "# Merge entities from event and tweets"
   ]
  },
  {
   "cell_type": "code",
   "execution_count": 7,
   "id": "76fb1d48-d58f-4b53-b269-54eb99cf4602",
   "metadata": {},
   "outputs": [],
   "source": [
    "df_event_entites= pd.read_csv(\"../data/wikidata/entities_events_detected.csv\")\n",
    "df_tweet_entities = pd.read_csv(\"../data/wikidata/entities_tweets_detected.csv\")"
   ]
  },
  {
   "cell_type": "code",
   "execution_count": 8,
   "id": "13452ca2-59a5-4cc1-9549-017872e2f925",
   "metadata": {},
   "outputs": [],
   "source": [
    "df_entities = pd.concat([df_event_entites,df_tweet_entities])"
   ]
  },
  {
   "cell_type": "code",
   "execution_count": 9,
   "id": "ac8011cb-74b8-42f0-8058-4a5497d0a04a",
   "metadata": {},
   "outputs": [],
   "source": [
    "df_entities = df_entities[[\"entity_id\", \"description\", \"label\", \"url\"]]"
   ]
  },
  {
   "cell_type": "code",
   "execution_count": 10,
   "id": "f49dff50-51fd-4baf-8635-3f298276909a",
   "metadata": {},
   "outputs": [
    {
     "data": {
      "text/html": [
       "<div>\n",
       "<style scoped>\n",
       "    .dataframe tbody tr th:only-of-type {\n",
       "        vertical-align: middle;\n",
       "    }\n",
       "\n",
       "    .dataframe tbody tr th {\n",
       "        vertical-align: top;\n",
       "    }\n",
       "\n",
       "    .dataframe thead th {\n",
       "        text-align: right;\n",
       "    }\n",
       "</style>\n",
       "<table border=\"1\" class=\"dataframe\">\n",
       "  <thead>\n",
       "    <tr style=\"text-align: right;\">\n",
       "      <th></th>\n",
       "      <th>entity_id</th>\n",
       "      <th>description</th>\n",
       "      <th>label</th>\n",
       "      <th>url</th>\n",
       "    </tr>\n",
       "  </thead>\n",
       "  <tbody>\n",
       "    <tr>\n",
       "      <th>0</th>\n",
       "      <td>1080137</td>\n",
       "      <td>military formation size, generally subordinate...</td>\n",
       "      <td>troop</td>\n",
       "      <td>https://www.wikidata.org/wiki/Q1080137</td>\n",
       "    </tr>\n",
       "    <tr>\n",
       "      <th>1</th>\n",
       "      <td>1050926</td>\n",
       "      <td>officially designated exclusion area around th...</td>\n",
       "      <td>Chernobyl Exclusion Zone</td>\n",
       "      <td>https://www.wikidata.org/wiki/Q1050926</td>\n",
       "    </tr>\n",
       "    <tr>\n",
       "      <th>2</th>\n",
       "      <td>212</td>\n",
       "      <td>sovereign state in Eastern Europe</td>\n",
       "      <td>Ukraine</td>\n",
       "      <td>https://www.wikidata.org/wiki/Q212</td>\n",
       "    </tr>\n",
       "    <tr>\n",
       "      <th>3</th>\n",
       "      <td>559549</td>\n",
       "      <td>United States federal service academy</td>\n",
       "      <td>United States Naval Academy</td>\n",
       "      <td>https://www.wikidata.org/wiki/Q559549</td>\n",
       "    </tr>\n",
       "    <tr>\n",
       "      <th>4</th>\n",
       "      <td>155868</td>\n",
       "      <td>island in the Black Sea</td>\n",
       "      <td>Snake Island</td>\n",
       "      <td>https://www.wikidata.org/wiki/Q155868</td>\n",
       "    </tr>\n",
       "    <tr>\n",
       "      <th>...</th>\n",
       "      <td>...</td>\n",
       "      <td>...</td>\n",
       "      <td>...</td>\n",
       "      <td>...</td>\n",
       "    </tr>\n",
       "    <tr>\n",
       "      <th>100256</th>\n",
       "      <td>266232</td>\n",
       "      <td>novel by Arthur Schnitzler</td>\n",
       "      <td>Dream Story</td>\n",
       "      <td>https://www.wikidata.org/wiki/Q266232</td>\n",
       "    </tr>\n",
       "    <tr>\n",
       "      <th>100257</th>\n",
       "      <td>18330923</td>\n",
       "      <td>2014 Swedish, horror-comedy film</td>\n",
       "      <td>American Burger</td>\n",
       "      <td>https://www.wikidata.org/wiki/Q18330923</td>\n",
       "    </tr>\n",
       "    <tr>\n",
       "      <th>100258</th>\n",
       "      <td>7161502</td>\n",
       "      <td>NaN</td>\n",
       "      <td>Pell Mell</td>\n",
       "      <td>https://www.wikidata.org/wiki/Q7161502</td>\n",
       "    </tr>\n",
       "    <tr>\n",
       "      <th>100259</th>\n",
       "      <td>1267311</td>\n",
       "      <td>trademarked name for a range of condoms</td>\n",
       "      <td>Durex</td>\n",
       "      <td>https://www.wikidata.org/wiki/Q1267311</td>\n",
       "    </tr>\n",
       "    <tr>\n",
       "      <th>100260</th>\n",
       "      <td>6644987</td>\n",
       "      <td>census-designated place in Tulare County, Cali...</td>\n",
       "      <td>Posey</td>\n",
       "      <td>https://www.wikidata.org/wiki/Q6644987</td>\n",
       "    </tr>\n",
       "  </tbody>\n",
       "</table>\n",
       "<p>100965 rows × 4 columns</p>\n",
       "</div>"
      ],
      "text/plain": [
       "        entity_id                                        description  \\\n",
       "0         1080137  military formation size, generally subordinate...   \n",
       "1         1050926  officially designated exclusion area around th...   \n",
       "2             212                  sovereign state in Eastern Europe   \n",
       "3          559549              United States federal service academy   \n",
       "4          155868                            island in the Black Sea   \n",
       "...           ...                                                ...   \n",
       "100256     266232                         novel by Arthur Schnitzler   \n",
       "100257   18330923                   2014 Swedish, horror-comedy film   \n",
       "100258    7161502                                                NaN   \n",
       "100259    1267311            trademarked name for a range of condoms   \n",
       "100260    6644987  census-designated place in Tulare County, Cali...   \n",
       "\n",
       "                              label                                      url  \n",
       "0                             troop   https://www.wikidata.org/wiki/Q1080137  \n",
       "1          Chernobyl Exclusion Zone   https://www.wikidata.org/wiki/Q1050926  \n",
       "2                           Ukraine       https://www.wikidata.org/wiki/Q212  \n",
       "3       United States Naval Academy    https://www.wikidata.org/wiki/Q559549  \n",
       "4                      Snake Island    https://www.wikidata.org/wiki/Q155868  \n",
       "...                             ...                                      ...  \n",
       "100256                  Dream Story    https://www.wikidata.org/wiki/Q266232  \n",
       "100257              American Burger  https://www.wikidata.org/wiki/Q18330923  \n",
       "100258                    Pell Mell   https://www.wikidata.org/wiki/Q7161502  \n",
       "100259                        Durex   https://www.wikidata.org/wiki/Q1267311  \n",
       "100260                        Posey   https://www.wikidata.org/wiki/Q6644987  \n",
       "\n",
       "[100965 rows x 4 columns]"
      ]
     },
     "execution_count": 10,
     "metadata": {},
     "output_type": "execute_result"
    }
   ],
   "source": [
    "df_entities"
   ]
  },
  {
   "cell_type": "code",
   "execution_count": 13,
   "id": "36ac5a84-1bab-4568-b5a8-a8b6b3e2634d",
   "metadata": {},
   "outputs": [],
   "source": [
    "df_entities.drop_duplicates(subset=[\"entity_id\"], inplace=True)"
   ]
  },
  {
   "cell_type": "code",
   "execution_count": 14,
   "id": "35c52f4e-bd04-46de-99a1-8e0e9bdcf57d",
   "metadata": {},
   "outputs": [],
   "source": [
    "df_entities.to_csv(\"../data/final/entities.csv\",index=False)"
   ]
  },
  {
   "cell_type": "code",
   "execution_count": null,
   "id": "b2bef1f7-46cf-44df-bfc2-47a9c94c3066",
   "metadata": {},
   "outputs": [],
   "source": []
  }
 ],
 "metadata": {
  "kernelspec": {
   "display_name": "python-eve",
   "language": "python",
   "name": "eve"
  },
  "language_info": {
   "codemirror_mode": {
    "name": "ipython",
    "version": 3
   },
   "file_extension": ".py",
   "mimetype": "text/x-python",
   "name": "python",
   "nbconvert_exporter": "python",
   "pygments_lexer": "ipython3",
   "version": "3.8.12"
  }
 },
 "nbformat": 4,
 "nbformat_minor": 5
}
