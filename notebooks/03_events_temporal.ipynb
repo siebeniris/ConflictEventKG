{
 "cells": [
  {
   "cell_type": "code",
   "execution_count": 1,
   "id": "7bce23cf-477d-49a5-bd75-f5f52773862e",
   "metadata": {},
   "outputs": [],
   "source": [
    "import re\n",
    "import random\n",
    "from collections import defaultdict\n",
    "from itertools import chain\n",
    "import pandas as pd\n",
    "import codecs\n",
    "import json\n",
    "import os\n",
    "from glob import glob"
   ]
  },
  {
   "cell_type": "code",
   "execution_count": 2,
   "id": "32daa18c-6051-44b8-aed4-d74d83b532dd",
   "metadata": {},
   "outputs": [],
   "source": [
    "data_dir= \"../data/events/\""
   ]
  },
  {
   "cell_type": "code",
   "execution_count": 73,
   "id": "811a8d8d-f2b1-49cb-a238-81cf62034dc9",
   "metadata": {},
   "outputs": [],
   "source": [
    "df_ls=[]\n",
    "for file in os.listdir(data_dir):\n",
    "    if file.endswith(\".csv\"):\n",
    "        filepath = os.path.join(data_dir, file)\n",
    "        dataf = pd.read_csv(filepath)\n",
    "        df_ls.append(dataf)"
   ]
  },
  {
   "cell_type": "code",
   "execution_count": 74,
   "id": "2731fae2-39b6-4b47-98ec-380fc5616911",
   "metadata": {},
   "outputs": [],
   "source": [
    "dataframes = pd.concat(df_ls)"
   ]
  },
  {
   "cell_type": "code",
   "execution_count": 78,
   "id": "0b6ec5fe-04dd-4936-a925-3bc571c1d131",
   "metadata": {},
   "outputs": [],
   "source": [
    "columns = ['event', 'leading_event', 'date', 'category', 'entities']"
   ]
  },
  {
   "cell_type": "code",
   "execution_count": 79,
   "id": "5806915f-3004-4583-bc4c-f765507da5d5",
   "metadata": {},
   "outputs": [],
   "source": [
    "df = dataframes[columns]"
   ]
  },
  {
   "cell_type": "code",
   "execution_count": 82,
   "id": "4f1a7a3a-9b2a-4fcc-bd5d-8bdfeba0cb20",
   "metadata": {},
   "outputs": [],
   "source": [
    "df = df.sort_values(by=[\"date\"])"
   ]
  },
  {
   "cell_type": "code",
   "execution_count": 84,
   "id": "242e25c8-fc20-4af7-9450-64f993c8a17e",
   "metadata": {},
   "outputs": [],
   "source": [
    "df.to_csv(\"../data/events/events.csv\", index=False)"
   ]
  },
  {
   "cell_type": "markdown",
   "id": "2d9bd2db-82bc-4fb4-8ead-b43d864a6104",
   "metadata": {
    "tags": []
   },
   "source": [
    "# Export events dataframes"
   ]
  },
  {
   "cell_type": "code",
   "execution_count": 9,
   "id": "61b97c1a-2539-4b58-b394-d0111bbad02b",
   "metadata": {
    "scrolled": true,
    "tags": []
   },
   "outputs": [],
   "source": [
    "df_ls = []\n",
    "for file in glob(\"../data/output/events_dict_**.json\"):\n",
    "    date = file.split(\"/\")[-1].replace(\".json\", \"\").split(\"_\")[-1]\n",
    "    with open(file) as reader:\n",
    "        data = json.load(reader)\n",
    "    df= pd.DataFrame.from_dict(data, orient=\"index\")\n",
    "    df_ls.append(df)"
   ]
  },
  {
   "cell_type": "code",
   "execution_count": 10,
   "id": "b55890e7-6c87-4475-8e15-4d428f829dae",
   "metadata": {},
   "outputs": [],
   "source": [
    "df_merge = pd.concat(df_ls)"
   ]
  },
  {
   "cell_type": "code",
   "execution_count": 15,
   "id": "b293a66c-7e82-4ba3-9786-453113264517",
   "metadata": {},
   "outputs": [],
   "source": [
    "df_merge.sort_values(by=[\"date\", \"cateogry\", \"main_event\"],inplace=True)"
   ]
  },
  {
   "cell_type": "code",
   "execution_count": 17,
   "id": "c4e26bcb-bd87-445d-a187-c035d395a6c9",
   "metadata": {},
   "outputs": [],
   "source": [
    "df_merge.to_csv(\"../data/events/events_20220224-20220304.csv\", index=False)"
   ]
  },
  {
   "cell_type": "code",
   "execution_count": null,
   "id": "430d1f7a-bf6f-443a-8291-13acc1519111",
   "metadata": {},
   "outputs": [],
   "source": []
  },
  {
   "cell_type": "code",
   "execution_count": null,
   "id": "4fe0acf0-ecd0-45ea-b16e-f12c61cc12dc",
   "metadata": {},
   "outputs": [],
   "source": []
  },
  {
   "cell_type": "code",
   "execution_count": null,
   "id": "68fd3ef3-4185-4dc2-9909-da6da3c913b8",
   "metadata": {},
   "outputs": [],
   "source": []
  },
  {
   "cell_type": "code",
   "execution_count": 11,
   "id": "173a6994-e807-4b5c-8b4a-d221e2b80153",
   "metadata": {},
   "outputs": [],
   "source": [
    "file = data_dir+\"events_dict_2022-02-28.json\"\n",
    "with open(file) as reader:\n",
    "    data = json.load(reader)"
   ]
  },
  {
   "cell_type": "code",
   "execution_count": 61,
   "id": "dd2c34df-094b-4d4d-868b-6efbf5b0edac",
   "metadata": {
    "scrolled": true,
    "tags": []
   },
   "outputs": [],
   "source": [
    "def event_df(data):\n",
    "    \n",
    "    eventls=[]\n",
    "    leadings =[]\n",
    "    dates = []\n",
    "    categories =[]\n",
    "    entities_ls =[]\n",
    "    \n",
    "    count=0\n",
    "    for idx, event_dict in data.items():\n",
    "        events=event_dict[\"events\"]\n",
    "        leading = event_dict[\"leading\"]\n",
    "        date=event_dict[\"date\"]\n",
    "        category = event_dict[\"category\"]\n",
    "        entities=event_dict[\"entities\"]\n",
    "        \n",
    "        # event_entity_dict=defaultdict(list)\n",
    "        \n",
    "        for event in events:\n",
    "            entities4event=[]\n",
    "            \n",
    "            categories.append(category)\n",
    "            if len(entities)>0:\n",
    "                for entity in entities:\n",
    "                    if entity in event or event in entity:\n",
    "                        entities4event.append(entity)\n",
    "            count+=1\n",
    "        \n",
    "            if len(entities4event)>0:\n",
    "                entities_ls.append(list(set(entities4event)))\n",
    "            else:\n",
    "                entities_ls.append([])\n",
    "            \n",
    "        leadings.append([leading for _ in range(len(events))])\n",
    "        dates.append([date for _ in range(len(events))])\n",
    "        eventls.append(events)\n",
    "        \n",
    "    events_ = list(chain.from_iterable(eventls))\n",
    "    leadings_ = list(chain.from_iterable(leadings))\n",
    "    dates_ = list(chain.from_iterable(dates))\n",
    "    \n",
    "    \n",
    "    df= pd.DataFrame.from_dict({\n",
    "        \"event\":events_,\n",
    "        \"leading_event\":leadings_,\n",
    "        \"date\":dates_,\n",
    "        \"category\":categories,\n",
    "        \"entities\":entities_ls\n",
    "    })\n",
    "    \n",
    "    return df\n",
    "    "
   ]
  },
  {
   "cell_type": "code",
   "execution_count": 3,
   "id": "0cd45660-985d-4216-95c5-7b59c07eb63d",
   "metadata": {},
   "outputs": [
    {
     "name": "stdout",
     "output_type": "stream",
     "text": [
      "2022-03-2\n"
     ]
    }
   ],
   "source": [
    "test_file = \"../data/output/events_dict_2022-03-2.json\"\n",
    "date = test_file.split(\"/\")[-1].replace(\".json\", \"\").split(\"_\")[-1]\n",
    "print(date)\n",
    "with open(test_file) as reader:\n",
    "    data= json.load(reader)"
   ]
  },
  {
   "cell_type": "code",
   "execution_count": 7,
   "id": "4e74bbd5-a49d-424b-9a85-30754d42842d",
   "metadata": {},
   "outputs": [],
   "source": [
    "df= pd.DataFrame.from_dict(data, orient=\"index\")"
   ]
  },
  {
   "cell_type": "code",
   "execution_count": null,
   "id": "5e818038-3996-437c-b32e-1473b0c5dd46",
   "metadata": {},
   "outputs": [],
   "source": [
    "df"
   ]
  },
  {
   "cell_type": "code",
   "execution_count": null,
   "id": "d7c6ae09-6be7-4c6d-be59-6a81c010385b",
   "metadata": {
    "scrolled": true,
    "tags": []
   },
   "outputs": [],
   "source": [
    "event_df(data)"
   ]
  },
  {
   "cell_type": "code",
   "execution_count": null,
   "id": "e7d2d846-2d3a-44ee-b5e3-f066899cb1e0",
   "metadata": {},
   "outputs": [],
   "source": []
  },
  {
   "cell_type": "code",
   "execution_count": null,
   "id": "3870f5a8-e2a5-4973-8f99-845e86d4415c",
   "metadata": {},
   "outputs": [],
   "source": []
  }
 ],
 "metadata": {
  "kernelspec": {
   "display_name": "python-eve",
   "language": "python",
   "name": "eve"
  },
  "language_info": {
   "codemirror_mode": {
    "name": "ipython",
    "version": 3
   },
   "file_extension": ".py",
   "mimetype": "text/x-python",
   "name": "python",
   "nbconvert_exporter": "python",
   "pygments_lexer": "ipython3",
   "version": "3.8.12"
  }
 },
 "nbformat": 4,
 "nbformat_minor": 5
}
