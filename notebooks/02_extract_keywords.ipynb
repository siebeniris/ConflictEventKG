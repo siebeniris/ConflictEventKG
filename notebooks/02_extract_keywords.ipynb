{
 "cells": [
  {
   "cell_type": "code",
   "execution_count": 1,
   "id": "3d095c4b-bf2a-4d6c-96a2-f6c02abf60be",
   "metadata": {},
   "outputs": [],
   "source": [
    "import bs4\n",
    "from bs4 import BeautifulSoup\n",
    "\n",
    "import re\n",
    "import random\n",
    "from collections import defaultdict\n",
    "from itertools import chain\n",
    "import pandas as pd\n",
    "import codecs\n",
    "import json\n",
    "import os\n",
    "from glob import glob"
   ]
  },
  {
   "cell_type": "code",
   "execution_count": 2,
   "id": "90cc6cf7-60d1-4796-996a-c4f9717572e5",
   "metadata": {},
   "outputs": [],
   "source": [
    "data_dir= \"../data/output/\""
   ]
  },
  {
   "cell_type": "code",
   "execution_count": 22,
   "id": "957f4a19-c6d0-4d28-a245-2ab425a3fc51",
   "metadata": {},
   "outputs": [],
   "source": [
    "test_file = data_dir+\"entities_2022-02-24.json\""
   ]
  },
  {
   "cell_type": "code",
   "execution_count": 23,
   "id": "b06a9043-4d82-47fc-89fd-11506e4ad61d",
   "metadata": {},
   "outputs": [],
   "source": [
    "with open(file) as reader:\n",
    "    entities_dict= json.load(reader)"
   ]
  },
  {
   "cell_type": "code",
   "execution_count": 32,
   "id": "cd287689-1d6d-49d8-b36d-18100228bea1",
   "metadata": {},
   "outputs": [],
   "source": [
    "# def entity_df(entities_dict, date):\n",
    "#     names, links, categories, leading_events=[],[],[],[]\n",
    "#     for entity_name, entity_dict in entities_dict.items():\n",
    "#         link = entity_dict[\"link\"]\n",
    "#         category= entity_dict[\"category\"]\n",
    "#         leading_event = entity_dict[\"leading\"]\n",
    "#         names.append(entity_name)\n",
    "#         links.append(link)\n",
    "#         categories.append(category)\n",
    "#         leading_events.append(leading_event)\n",
    "        \n",
    "#     dates = [date for _ in range(len(names))]\n",
    "    \n",
    "#     df = pd.DataFrame.from_dict({\"entity_name\":names,\n",
    "#                                  \"link\":links,\n",
    "#                                  \"category\": categories,\n",
    "#                                  \"leading_event\": leading_events,\n",
    "#                                 \"date\": dates})\n",
    "#     return df"
   ]
  },
  {
   "cell_type": "code",
   "execution_count": null,
   "id": "def4d8e6-a8c4-45f8-b688-1bb7c61c4912",
   "metadata": {
    "scrolled": true,
    "tags": []
   },
   "outputs": [],
   "source": [
    "df_ls =[]\n",
    "for file in glob(data_dir+\"entities_dict_**.json\"):\n",
    "    print(file)\n",
    "    date = file.split(\"/\")[-1].replace(\".json\", \"\").split(\"_\")[-1]\n",
    "    print(date)\n",
    "    with open(file) as reader:\n",
    "        entities_dict = json.load(reader)\n",
    "    df = pd.DataFrame.from_dict(entities_dict, orient=\"index\")\n",
    "    print(df.head())\n",
    "    df_ls.append(df)"
   ]
  },
  {
   "cell_type": "code",
   "execution_count": null,
   "id": "056bcf84-c07e-4da8-8f32-d9833a919d00",
   "metadata": {},
   "outputs": [],
   "source": []
  },
  {
   "cell_type": "code",
   "execution_count": 9,
   "id": "ef7d3b93-b55b-4453-9f54-7e2362d44b61",
   "metadata": {},
   "outputs": [],
   "source": [
    "df_ = pd.concat(df_ls)"
   ]
  },
  {
   "cell_type": "code",
   "execution_count": 12,
   "id": "981cd27f-a11b-48f0-97e8-456606973f0d",
   "metadata": {},
   "outputs": [],
   "source": [
    "df_.columns = [ \"wiki\"]"
   ]
  },
  {
   "cell_type": "code",
   "execution_count": 14,
   "id": "9be22cbb-e124-41b0-8600-bfd0cd5b2122",
   "metadata": {},
   "outputs": [],
   "source": [
    "df_[\"entity\"]=df_.index"
   ]
  },
  {
   "cell_type": "code",
   "execution_count": 17,
   "id": "3ac79e23-37ea-4d8d-9444-eb29b8409a52",
   "metadata": {},
   "outputs": [],
   "source": [
    "df_.drop_duplicates(subset=[\"entity\"], inplace=True)"
   ]
  },
  {
   "cell_type": "code",
   "execution_count": 18,
   "id": "f0e96a48-d9a9-4acb-8c00-d17d63e7414a",
   "metadata": {},
   "outputs": [],
   "source": [
    "df_.to_csv(\"../data/entities_wiki_until_0304.csv\", index=False)"
   ]
  },
  {
   "cell_type": "code",
   "execution_count": 22,
   "id": "4f53868b-d45a-4bad-a1d4-47e97f7121be",
   "metadata": {},
   "outputs": [
    {
     "data": {
      "text/plain": [
       "485"
      ]
     },
     "execution_count": 22,
     "metadata": {},
     "output_type": "execute_result"
    }
   ],
   "source": [
    "len(df_)"
   ]
  },
  {
   "cell_type": "code",
   "execution_count": 20,
   "id": "1fcae084-69cf-4827-ae98-7305ebc281d4",
   "metadata": {},
   "outputs": [],
   "source": [
    "df_dedup = pd.read_csv(\"../data/entities_wiki_dedup.csv\")"
   ]
  },
  {
   "cell_type": "code",
   "execution_count": null,
   "id": "91b73c49-af54-4b49-a8da-e60adeb08291",
   "metadata": {},
   "outputs": [],
   "source": [
    "set(df_dedup.entity_name.tolist()).difference(set(df_.entity.tolist()))"
   ]
  },
  {
   "cell_type": "code",
   "execution_count": 46,
   "id": "ac2bc36b-5f22-4454-b826-97ca8e62c246",
   "metadata": {},
   "outputs": [],
   "source": [
    "df_.to_csv(\"../data/entities_wiki.csv\", index=False)"
   ]
  },
  {
   "cell_type": "code",
   "execution_count": null,
   "id": "09353689-a8b0-4f86-b70f-2475c2c0a21d",
   "metadata": {},
   "outputs": [],
   "source": [
    "df_"
   ]
  },
  {
   "cell_type": "code",
   "execution_count": 47,
   "id": "2092b789-de81-41d4-bfa7-098ceaa5901b",
   "metadata": {},
   "outputs": [],
   "source": [
    "df_dedup = df_.drop_duplicates(subset=[\"entity_name\"])"
   ]
  },
  {
   "cell_type": "code",
   "execution_count": 48,
   "id": "2a8a3d05-1dc1-45c1-95a2-ca1be67c7914",
   "metadata": {},
   "outputs": [
    {
     "data": {
      "text/plain": [
       "488"
      ]
     },
     "execution_count": 48,
     "metadata": {},
     "output_type": "execute_result"
    }
   ],
   "source": [
    "len(df_dedup)"
   ]
  },
  {
   "cell_type": "code",
   "execution_count": 49,
   "id": "5bc7675c-abae-45f4-a29d-f6d3efaf6bcf",
   "metadata": {},
   "outputs": [],
   "source": [
    "df_dedup.to_csv(\"../data/entities_wiki_dedup.csv\", index=False)"
   ]
  },
  {
   "cell_type": "code",
   "execution_count": null,
   "id": "a920ba20-503f-425a-8f0f-a21f9cd7f965",
   "metadata": {},
   "outputs": [],
   "source": []
  }
 ],
 "metadata": {
  "kernelspec": {
   "display_name": "python-eve",
   "language": "python",
   "name": "eve"
  },
  "language_info": {
   "codemirror_mode": {
    "name": "ipython",
    "version": 3
   },
   "file_extension": ".py",
   "mimetype": "text/x-python",
   "name": "python",
   "nbconvert_exporter": "python",
   "pygments_lexer": "ipython3",
   "version": "3.8.12"
  }
 },
 "nbformat": 4,
 "nbformat_minor": 5
}
