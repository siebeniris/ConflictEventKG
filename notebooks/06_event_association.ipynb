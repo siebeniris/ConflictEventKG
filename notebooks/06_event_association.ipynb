{
 "cells": [
  {
   "cell_type": "code",
   "execution_count": 70,
   "id": "02642f3b-83ac-446c-b82f-dc2b69731bef",
   "metadata": {},
   "outputs": [],
   "source": [
    "import pandas as pd\n",
    "import json\n",
    "import numpy as np\n",
    "from ast import literal_eval\n",
    "from glob import glob\n",
    "from collections import defaultdict"
   ]
  },
  {
   "cell_type": "code",
   "execution_count": 85,
   "id": "f0594a34-3290-4694-93fc-df5d4d4d4568",
   "metadata": {
    "tags": []
   },
   "outputs": [],
   "source": [
    "%matplotlib inline\n",
    "\n",
    "import matplotlib\n",
    "import numpy as np\n",
    "import matplotlib.pyplot as plt"
   ]
  },
  {
   "cell_type": "code",
   "execution_count": 86,
   "id": "8614d813-d1a9-431a-a3ed-15db2c4e1dac",
   "metadata": {},
   "outputs": [],
   "source": [
    "import seaborn as sns"
   ]
  },
  {
   "cell_type": "code",
   "execution_count": 2,
   "id": "0ebee65b-381a-42c1-957c-264828d3d5df",
   "metadata": {},
   "outputs": [],
   "source": [
    "df_event = pd.read_csv(\"../data/events/events_actors_wiki2data.csv\")"
   ]
  },
  {
   "cell_type": "code",
   "execution_count": 59,
   "id": "ba200d88-e50e-4edb-9caf-d611ad5d9fe8",
   "metadata": {},
   "outputs": [],
   "source": [
    "wiki2data_ids = df_event[\"wikidata_ids\"].tolist()\n",
    "wiki2data_ids_ = [literal_eval(x) for x in wiki2data_ids]\n",
    "wiki2data_ids_= [ [int(x) for x in y] for y in wiki2data_ids_]\n",
    "df_event[\"wikidata_ids\"] = wiki2data_ids_\n",
    "df_event[\"event_id\"]= df_event.index"
   ]
  },
  {
   "cell_type": "code",
   "execution_count": 15,
   "id": "ecdc35e9-7fe7-457b-bce9-8b96a6193830",
   "metadata": {},
   "outputs": [],
   "source": [
    "event2wikidata= dict(zip(df_event[\"event_id\"], df_event[\"wikidata_ids\"]))"
   ]
  },
  {
   "cell_type": "code",
   "execution_count": 16,
   "id": "382e3280-1443-4e40-a7e9-a4d729c6ce58",
   "metadata": {},
   "outputs": [],
   "source": [
    "for event_id, wiki2dataids in event2wikidata.items():\n",
    "    if len(wiki2dataids) <= 0:\n",
    "        print(event_id)"
   ]
  },
  {
   "cell_type": "code",
   "execution_count": 14,
   "id": "79866202-a6d0-40b5-961c-8732172accc9",
   "metadata": {},
   "outputs": [
    {
     "data": {
      "text/html": [
       "<div>\n",
       "<style scoped>\n",
       "    .dataframe tbody tr th:only-of-type {\n",
       "        vertical-align: middle;\n",
       "    }\n",
       "\n",
       "    .dataframe tbody tr th {\n",
       "        vertical-align: top;\n",
       "    }\n",
       "\n",
       "    .dataframe thead th {\n",
       "        text-align: right;\n",
       "    }\n",
       "</style>\n",
       "<table border=\"1\" class=\"dataframe\">\n",
       "  <thead>\n",
       "    <tr style=\"text-align: right;\">\n",
       "      <th></th>\n",
       "      <th>category</th>\n",
       "      <th>event_text</th>\n",
       "      <th>main_event</th>\n",
       "      <th>date</th>\n",
       "      <th>news</th>\n",
       "      <th>entities</th>\n",
       "      <th>first_sentence</th>\n",
       "      <th>first_actor</th>\n",
       "      <th>wikidata_ids</th>\n",
       "      <th>wikidata_labels</th>\n",
       "      <th>wiki2data_ids</th>\n",
       "      <th>wiki2data_labels</th>\n",
       "      <th>event_id</th>\n",
       "    </tr>\n",
       "  </thead>\n",
       "  <tbody>\n",
       "    <tr>\n",
       "      <th>21</th>\n",
       "      <td>Armed conflicts and attacks</td>\n",
       "      <td>Ukraine suspends diplomatic relations with Rus...</td>\n",
       "      <td>Russo-Ukrainian War</td>\n",
       "      <td>2022-02-24</td>\n",
       "      <td>['https://www.timesofisrael.com/liveblog_entry...</td>\n",
       "      <td>[]</td>\n",
       "      <td>Ukraine suspends diplomatic relations with Rus...</td>\n",
       "      <td>Ukraine</td>\n",
       "      <td>[212, 277521, 159, 7315950, 467011]</td>\n",
       "      <td>['Ukraine', 'relation', 'Russia', 'response', ...</td>\n",
       "      <td>[]</td>\n",
       "      <td>[]</td>\n",
       "      <td>21</td>\n",
       "    </tr>\n",
       "  </tbody>\n",
       "</table>\n",
       "</div>"
      ],
      "text/plain": [
       "                       category  \\\n",
       "21  Armed conflicts and attacks   \n",
       "\n",
       "                                           event_text           main_event  \\\n",
       "21  Ukraine suspends diplomatic relations with Rus...  Russo-Ukrainian War   \n",
       "\n",
       "          date                                               news entities  \\\n",
       "21  2022-02-24  ['https://www.timesofisrael.com/liveblog_entry...       []   \n",
       "\n",
       "                                       first_sentence first_actor  \\\n",
       "21  Ukraine suspends diplomatic relations with Rus...     Ukraine   \n",
       "\n",
       "                           wikidata_ids  \\\n",
       "21  [212, 277521, 159, 7315950, 467011]   \n",
       "\n",
       "                                      wikidata_labels wiki2data_ids  \\\n",
       "21  ['Ukraine', 'relation', 'Russia', 'response', ...            []   \n",
       "\n",
       "   wiki2data_labels  event_id  \n",
       "21               []        21  "
      ]
     },
     "execution_count": 14,
     "metadata": {},
     "output_type": "execute_result"
    }
   ],
   "source": [
    "df_event[df_event[\"event_id\"]==21]"
   ]
  },
  {
   "cell_type": "code",
   "execution_count": 4,
   "id": "87411367-379c-4b74-a0df-60f65c000f28",
   "metadata": {},
   "outputs": [],
   "source": [
    "for file in glob(\"../data/wikidata/tweets_wikidata_*.csv\"):\n",
    "    df = pd.read_csv(file)"
   ]
  },
  {
   "cell_type": "code",
   "execution_count": 106,
   "id": "545acd00-1282-4c64-bfda-6234f04190b6",
   "metadata": {},
   "outputs": [],
   "source": [
    "df_tweet = pd.read_csv(\"../data/wikidata/tweets_wikidata_2022-02-24 00:00:00.csv\")"
   ]
  },
  {
   "cell_type": "code",
   "execution_count": 107,
   "id": "c0e994a1-74a5-41dd-83bd-2f044a8bdec7",
   "metadata": {},
   "outputs": [],
   "source": [
    "wikidata_ids = df_tweet[\"wikidata_ids\"].tolist()\n",
    "wikidata_ids_ = [literal_eval(x) for x in wikidata_ids]\n",
    "wikidata_ids_= [ [int(x) for x in y] for y in wikidata_ids_]\n",
    "df_tweet[\"wikidata_ids\"] = wikidata_ids_"
   ]
  },
  {
   "cell_type": "code",
   "execution_count": 109,
   "id": "a2261f58-5c75-4456-a59c-a5d8676d86b0",
   "metadata": {},
   "outputs": [],
   "source": [
    "def matching_tweets_event(df_event, df_tweets):\n",
    "    tweet_date = df_tweets[\"date\"].tolist()[0]\n",
    "    df_event = df_event[df_event[\"date\"]<=tweet_date] # tweet should be after event date.\n",
    "    print(df_event.date.value_counts())\n",
    "    event2wikidata= dict(zip(df_event[\"event_id\"], df_event[\"wikidata_ids\"]))\n",
    "    tweet2wikidata= dict(zip(df_tweets[\"id\"], df_tweets[\"wikidata_ids\"]))\n",
    "    \n",
    "    tweet2event_dict= defaultdict(dict)\n",
    "    \n",
    "    for tweet_id, tweet_ents in tweet2wikidata.items():\n",
    "        \n",
    "        for event_id, event_ents in event2wikidata.items():\n",
    "            event_labels_len = len(event_ents)\n",
    "            inters = list(set(event_ents).intersection(set(tweet_ents)))\n",
    "            if len(inters)>0:\n",
    "                if event_labels_len>0:\n",
    "                    score = len(inters)/event_labels_len\n",
    "                    if score >0:\n",
    "                        if tweet_id not in tweet2event_dict:\n",
    "                            tweet2event_dict[tweet_id] = dict()\n",
    "                            tweet2event_dict[tweet_id][event_id]=score\n",
    "                        else:\n",
    "                            tweet2event_dict[tweet_id][event_id]=score\n",
    "                        \n",
    "    return tweet2event_dict"
   ]
  },
  {
   "cell_type": "code",
   "execution_count": 110,
   "id": "ae444827-bf7d-4582-b33b-2b6175ecce4a",
   "metadata": {},
   "outputs": [],
   "source": [
    "hashtag =\"278485\""
   ]
  },
  {
   "cell_type": "code",
   "execution_count": 111,
   "id": "76d7b2eb-1b93-4f34-9257-4ae7a918ff52",
   "metadata": {
    "scrolled": true,
    "tags": []
   },
   "outputs": [
    {
     "name": "stdout",
     "output_type": "stream",
     "text": [
      "2022-02-24    43\n",
      "Name: date, dtype: int64\n",
      "CPU times: user 3.11 s, sys: 33.2 ms, total: 3.15 s\n",
      "Wall time: 3.15 s\n"
     ]
    }
   ],
   "source": [
    "%time tweet2event_dict = matching_tweets_event(df_event, df_tweet)"
   ]
  },
  {
   "cell_type": "code",
   "execution_count": 112,
   "id": "c2d577dc-bc5d-4ae9-9973-0456c5d416ea",
   "metadata": {
    "scrolled": true,
    "tags": []
   },
   "outputs": [],
   "source": [
    "def get_tweet_event_score(tweet2event_dict):\n",
    "    tweet2event_score = defaultdict(dict)\n",
    "\n",
    "    for tweet_id, event_score in tweet2event_dict.items():\n",
    "        event_score = sorted(event_score.items(), key=lambda item: item[1], reverse=True)\n",
    "        event_id, score = event_score[0]\n",
    "\n",
    "        tweet2event_score[tweet_id]={\"event_id\":event_id, \"score\":score}\n",
    "    \n",
    "    # convert dictionary to dataframe\n",
    "    tweet2event_df = pd.DataFrame.from_dict(tweet2event_score, orient=\"index\")\n",
    "    tweet2event_df[\"id\"]=tweet2event_df.index\n",
    "    return tweet2event_df"
   ]
  },
  {
   "cell_type": "code",
   "execution_count": 113,
   "id": "29d93b8f-472b-4cbd-b64e-29376a207cef",
   "metadata": {},
   "outputs": [],
   "source": [
    "tweet2event_df = get_tweet_event_score(tweet2event_dict)"
   ]
  },
  {
   "cell_type": "code",
   "execution_count": 114,
   "id": "520e13a4-c81c-4883-b80f-39a6930375d7",
   "metadata": {},
   "outputs": [
    {
     "data": {
      "text/plain": [
       "(110338, 104886)"
      ]
     },
     "execution_count": 114,
     "metadata": {},
     "output_type": "execute_result"
    }
   ],
   "source": [
    "len(df_tweet), len(tweet2event_df)"
   ]
  },
  {
   "cell_type": "code",
   "execution_count": 115,
   "id": "3c24ae1f-77d3-4c58-9b1c-af45c56c17d5",
   "metadata": {},
   "outputs": [],
   "source": [
    "df_merged = pd.merge(df_tweet, tweet2event_df, on=\"id\")"
   ]
  },
  {
   "cell_type": "code",
   "execution_count": 116,
   "id": "42d1e623-2799-42b1-acbf-19e67c87df27",
   "metadata": {},
   "outputs": [],
   "source": [
    "df_= df_merged[df_merged['score']>0.5]"
   ]
  },
  {
   "cell_type": "code",
   "execution_count": null,
   "id": "52b9adae-cfa3-451e-b350-dc157d1e5243",
   "metadata": {},
   "outputs": [],
   "source": []
  },
  {
   "cell_type": "code",
   "execution_count": null,
   "id": "048f481a-e906-4203-af2e-941727fe07e2",
   "metadata": {},
   "outputs": [],
   "source": []
  },
  {
   "cell_type": "code",
   "execution_count": 89,
   "id": "4e5567f5-4fb0-405e-83d6-a0f48e81568f",
   "metadata": {
    "scrolled": true,
    "tags": []
   },
   "outputs": [
    {
     "data": {
      "text/plain": [
       "<seaborn.axisgrid.FacetGrid at 0x1748015b0>"
      ]
     },
     "execution_count": 89,
     "metadata": {},
     "output_type": "execute_result"
    },
    {
     "data": {
      "image/png": "[encoded data removed]",
      "text/plain": [
       "<Figure size 360x360 with 1 Axes>"
      ]
     },
     "metadata": {
      "needs_background": "light"
     },
     "output_type": "display_data"
    }
   ],
   "source": [
    "sns.displot(tweet2event_df, x=\"score\")"
   ]
  },
  {
   "cell_type": "code",
   "execution_count": 78,
   "id": "49348890-354c-4ef2-b419-cbe96f6acf19",
   "metadata": {},
   "outputs": [
    {
     "data": {
      "text/html": [
       "<div>\n",
       "<style scoped>\n",
       "    .dataframe tbody tr th:only-of-type {\n",
       "        vertical-align: middle;\n",
       "    }\n",
       "\n",
       "    .dataframe tbody tr th {\n",
       "        vertical-align: top;\n",
       "    }\n",
       "\n",
       "    .dataframe thead th {\n",
       "        text-align: right;\n",
       "    }\n",
       "</style>\n",
       "<table border=\"1\" class=\"dataframe\">\n",
       "  <thead>\n",
       "    <tr style=\"text-align: right;\">\n",
       "      <th></th>\n",
       "      <th>event_id</th>\n",
       "      <th>score</th>\n",
       "    </tr>\n",
       "  </thead>\n",
       "  <tbody>\n",
       "    <tr>\n",
       "      <th>1497092135623012355</th>\n",
       "      <td>59</td>\n",
       "      <td>0.500000</td>\n",
       "    </tr>\n",
       "    <tr>\n",
       "      <th>1497092072523792384</th>\n",
       "      <td>49</td>\n",
       "      <td>0.400000</td>\n",
       "    </tr>\n",
       "    <tr>\n",
       "      <th>1497091984858791942</th>\n",
       "      <td>6</td>\n",
       "      <td>0.666667</td>\n",
       "    </tr>\n",
       "    <tr>\n",
       "      <th>1497091946271100929</th>\n",
       "      <td>6</td>\n",
       "      <td>0.333333</td>\n",
       "    </tr>\n",
       "    <tr>\n",
       "      <th>1497091863932813329</th>\n",
       "      <td>58</td>\n",
       "      <td>0.200000</td>\n",
       "    </tr>\n",
       "    <tr>\n",
       "      <th>...</th>\n",
       "      <td>...</td>\n",
       "      <td>...</td>\n",
       "    </tr>\n",
       "    <tr>\n",
       "      <th>1497237538242805762</th>\n",
       "      <td>65</td>\n",
       "      <td>0.400000</td>\n",
       "    </tr>\n",
       "    <tr>\n",
       "      <th>1497237525773045770</th>\n",
       "      <td>67</td>\n",
       "      <td>0.400000</td>\n",
       "    </tr>\n",
       "    <tr>\n",
       "      <th>1497237519443927052</th>\n",
       "      <td>20</td>\n",
       "      <td>0.400000</td>\n",
       "    </tr>\n",
       "    <tr>\n",
       "      <th>1497237510174429189</th>\n",
       "      <td>78</td>\n",
       "      <td>0.333333</td>\n",
       "    </tr>\n",
       "    <tr>\n",
       "      <th>1497237505522823168</th>\n",
       "      <td>59</td>\n",
       "      <td>0.500000</td>\n",
       "    </tr>\n",
       "  </tbody>\n",
       "</table>\n",
       "<p>133805 rows × 2 columns</p>\n",
       "</div>"
      ],
      "text/plain": [
       "                     event_id     score\n",
       "1497092135623012355        59  0.500000\n",
       "1497092072523792384        49  0.400000\n",
       "1497091984858791942         6  0.666667\n",
       "1497091946271100929         6  0.333333\n",
       "1497091863932813329        58  0.200000\n",
       "...                       ...       ...\n",
       "1497237538242805762        65  0.400000\n",
       "1497237525773045770        67  0.400000\n",
       "1497237519443927052        20  0.400000\n",
       "1497237510174429189        78  0.333333\n",
       "1497237505522823168        59  0.500000\n",
       "\n",
       "[133805 rows x 2 columns]"
      ]
     },
     "execution_count": 78,
     "metadata": {},
     "output_type": "execute_result"
    }
   ],
   "source": [
    "tweet2event_df"
   ]
  },
  {
   "cell_type": "code",
   "execution_count": null,
   "id": "f263c284-5d99-4a21-a47a-fb6122deb0a0",
   "metadata": {},
   "outputs": [],
   "source": []
  },
  {
   "cell_type": "code",
   "execution_count": null,
   "id": "19eed503-4049-44e2-91cc-c2056ff2eb43",
   "metadata": {},
   "outputs": [],
   "source": []
  }
 ],
 "metadata": {
  "kernelspec": {
   "display_name": "python-eve",
   "language": "python",
   "name": "eve"
  },
  "language_info": {
   "codemirror_mode": {
    "name": "ipython",
    "version": 3
   },
   "file_extension": ".py",
   "mimetype": "text/x-python",
   "name": "python",
   "nbconvert_exporter": "python",
   "pygments_lexer": "ipython3",
   "version": "3.8.12"
  }
 },
 "nbformat": 4,
 "nbformat_minor": 5
}
